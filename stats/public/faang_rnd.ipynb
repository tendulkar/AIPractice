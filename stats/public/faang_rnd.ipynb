{
 "cells": [
  {
   "cell_type": "code",
   "execution_count": null,
   "id": "3f5c32b5",
   "metadata": {},
   "outputs": [],
   "source": [
    "import pandas as pd\n",
    "import matplotlib.pyplot as plt\n",
    "import seaborn as sns\n",
    "import numpy as np\n",
    "\n",
    "# Data (as provided in the previous table)\n",
    "data = {\n",
    "    'Company': ['Amazon', 'Amazon', 'Amazon', 'Amazon', 'Amazon', \n",
    "                'Alphabet', 'Alphabet', 'Alphabet', 'Alphabet', 'Alphabet',\n",
    "                'Apple', 'Apple', 'Apple', 'Apple', 'Apple',\n",
    "                'Meta', 'Meta', 'Meta', 'Meta', 'Meta',\n",
    "                'Netflix', 'Netflix', 'Netflix', 'Netflix', 'Netflix'],\n",
    "    'Fiscal Year': [2020, 2021, 2022, 2023, 2024,\n",
    "                    2020, 2021, 2022, 2023, 2024,\n",
    "                    2020, 2021, 2022, 2023, 2024,\n",
    "                    2020, 2021, 2022, 2023, 2024,\n",
    "                    2020, 2021, 2022, 2023, 2024],\n",
    "    'R&D as % of Revenue': [11.1, 11.9, 14.2, 14.9, 13.9,\n",
    "                           15.1, 12.3, 14.0, 14.8, 14.1,\n",
    "                           6.8, 6.0, 6.7, 7.8, 8.0,\n",
    "                           21.5, 20.9, 30.3, 28.5, 32.2,\n",
    "                           7.3, 7.7, 8.6, 7.9, 7.5]\n",
    "}\n",
    "\n",
    "df = pd.DataFrame(data)\n",
    "\n",
    "# Create a grouped bar chart\n",
    "plt.figure(figsize=(12, 6)) # Adjust figure size for better readability\n",
    "sns.barplot(x='Fiscal Year', y='R&D as % of Revenue', hue='Company', data=df, palette='viridis') # Using a color palette for aesthetics\n",
    "\n",
    "# Add labels and title for clarity\n",
    "plt.xlabel('Fiscal Year')\n",
    "plt.ylabel('R&D as % of Revenue (%)')\n",
    "plt.title('FAANG Companies R&D Expenditure as a Percentage of Revenue (2020-2024)', fontsize=16) # Add a title with a larger font size\n",
    "\n",
    "# Improve the appearance of the chart\n",
    "plt.xticks(rotation=0) # Rotate x-axis labels for better readability if needed\n",
    "plt.legend(title='Company') # Add a legend to differentiate companies\n",
    "plt.tight_layout() # Adjust layout to prevent labels from overlapping\n",
    "sns.despine() # Remove the top and right spines for a cleaner look\n",
    "\n",
    "# Display the plot\n",
    "plt.show()\n"
   ]
  },
  {
   "cell_type": "code",
   "execution_count": null,
   "id": "e0f8a501",
   "metadata": {},
   "outputs": [],
   "source": []
  }
 ],
 "metadata": {
  "kernelspec": {
   "display_name": "base",
   "language": "python",
   "name": "python3"
  },
  "language_info": {
   "codemirror_mode": {
    "name": "ipython",
    "version": 3
   },
   "file_extension": ".py",
   "mimetype": "text/x-python",
   "name": "python",
   "nbconvert_exporter": "python",
   "pygments_lexer": "ipython3",
   "version": "3.11.8"
  }
 },
 "nbformat": 4,
 "nbformat_minor": 5
}
