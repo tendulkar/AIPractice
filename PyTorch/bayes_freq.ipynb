{
 "cells": [
  {
   "cell_type": "code",
   "execution_count": 3,
   "id": "d9763679",
   "metadata": {},
   "outputs": [
    {
     "data": {
      "application/vnd.jupyter.widget-view+json": {
       "model_id": "c42c28a29e25422aa119d387cf7150d7",
       "version_major": 2,
       "version_minor": 0
      },
      "text/plain": [
       "interactive(children=(IntSlider(value=5, description='Heads Observed', max=10), Output()), _dom_classes=('widg…"
      ]
     },
     "metadata": {},
     "output_type": "display_data"
    },
    {
     "data": {
      "text/plain": [
       "<function __main__.plot_bayes_update(k)>"
      ]
     },
     "execution_count": 3,
     "metadata": {},
     "output_type": "execute_result"
    }
   ],
   "source": [
    "import matplotlib.pyplot as plt\n",
    "import numpy as np\n",
    "from scipy.stats import beta\n",
    "from ipywidgets import interact, IntSlider\n",
    "\n",
    "# Parameters\n",
    "n = 10\n",
    "alpha_prior, beta_prior = 1, 1\n",
    "p_vals = np.linspace(0, 1, 300)\n",
    "\n",
    "def plot_bayes_update(k):\n",
    "    alpha_post = alpha_prior + k\n",
    "    beta_post = beta_prior + (n - k)\n",
    "    posterior = beta.pdf(p_vals, alpha_post, beta_post)\n",
    "    prior = beta.pdf(p_vals, alpha_prior, beta_prior)\n",
    "\n",
    "    plt.figure(figsize=(8, 5))\n",
    "    plt.plot(p_vals, prior, 'k--', label='Prior (Beta(1,1))')\n",
    "    plt.plot(p_vals, posterior, 'g-', label=f'Posterior (Beta({alpha_post},{beta_post}))')\n",
    "    plt.axvline(0.5, color='gray', linestyle=':')\n",
    "    plt.xlabel('Probability of Heads (p)')\n",
    "    plt.ylabel('Density')\n",
    "    plt.title(f'Bayesian Update: Observed {k} Heads in {n} Tosses')\n",
    "    plt.legend()\n",
    "    plt.grid(True)\n",
    "    plt.ylim(0, 7)\n",
    "    plt.show()\n",
    "\n",
    "interact(plot_bayes_update, k=IntSlider(value=5, min=0, max=10, step=1, description='Heads Observed'))"
   ]
  },
  {
   "cell_type": "code",
   "execution_count": null,
   "id": "5262c154",
   "metadata": {},
   "outputs": [],
   "source": []
  }
 ],
 "metadata": {
  "kernelspec": {
   "display_name": "Python 3 (ipykernel)",
   "language": "python",
   "name": "python3"
  },
  "language_info": {
   "codemirror_mode": {
    "name": "ipython",
    "version": 3
   },
   "file_extension": ".py",
   "mimetype": "text/x-python",
   "name": "python",
   "nbconvert_exporter": "python",
   "pygments_lexer": "ipython3",
   "version": "3.11.8"
  }
 },
 "nbformat": 4,
 "nbformat_minor": 5
}
