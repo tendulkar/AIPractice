{
 "cells": [
  {
   "cell_type": "code",
   "execution_count": 1,
   "id": "40190da6-c026-42be-bffc-060872f3b683",
   "metadata": {},
   "outputs": [
    {
     "name": "stderr",
     "output_type": "stream",
     "text": [
      "2024-07-26 10:39:10.975712: I tensorflow/core/util/port.cc:110] oneDNN custom operations are on. You may see slightly different numerical results due to floating-point round-off errors from different computation orders. To turn them off, set the environment variable `TF_ENABLE_ONEDNN_OPTS=0`.\n",
      "2024-07-26 10:39:11.014411: I tensorflow/core/platform/cpu_feature_guard.cc:182] This TensorFlow binary is optimized to use available CPU instructions in performance-critical operations.\n",
      "To enable the following instructions: AVX2 AVX512F AVX512_VNNI FMA, in other operations, rebuild TensorFlow with the appropriate compiler flags.\n"
     ]
    },
    {
     "name": "stdout",
     "output_type": "stream",
     "text": [
      "VOC-NOTICE: GPU memory for this assignment is capped at 1024MiB\n"
     ]
    },
    {
     "name": "stderr",
     "output_type": "stream",
     "text": [
      "2024-07-26 10:39:13.061886: E tensorflow/compiler/xla/stream_executor/cuda/cuda_driver.cc:268] failed call to cuInit: CUDA_ERROR_NO_DEVICE: no CUDA-capable device is detected\n"
     ]
    }
   ],
   "source": [
    "import numpy as np\n",
    "import tensorflow as tf\n",
    "from matplotlib import pyplot as plt\n",
    "import cv2\n",
    "\n",
    "from tensorflow.keras.layers import Dense, Input, Lambda\n",
    "from tensorflow.keras.models import Model\n",
    "from tensorflow.keras.preprocessing.image import img_to_array\n",
    "from tensorflow.keras.datasets import mnist\n",
    "from tensorflow.keras.losses import binary_crossentropy\n",
    "from tensorflow.keras import backend as K\n",
    "\n"
   ]
  },
  {
   "cell_type": "code",
   "execution_count": 2,
   "id": "f8bf87b1-086e-4ad5-bf71-63dcbd21e517",
   "metadata": {},
   "outputs": [
    {
     "data": {
      "text/plain": [
       "((60000, 784), (10000, 784))"
      ]
     },
     "execution_count": 2,
     "metadata": {},
     "output_type": "execute_result"
    }
   ],
   "source": [
    "(X_train, _), (X_test, _) = mnist.load_data()\n",
    "X_train = X_train.astype('float') / 255.\n",
    "X_test = X_test.astype('float') / 255.\n",
    "\n",
    "X_train = X_train.reshape(len(X_train), np.prod(X_train.shape[1:]))\n",
    "X_test = X_test.reshape(len(X_test), np.prod(X_test.shape[1:]))\n",
    "X_train.shape, X_test.shape"
   ]
  },
  {
   "cell_type": "code",
   "execution_count": 3,
   "id": "0f31958a-1dc1-4bbd-b7a8-7c11850aa5d9",
   "metadata": {},
   "outputs": [],
   "source": [
    "#params\n",
    "\n",
    "input_dims = 784\n",
    "hidden_dims = 400\n",
    "latent_dims = 20\n",
    "epochs = 50\n",
    "batch_size = 128"
   ]
  },
  {
   "cell_type": "code",
   "execution_count": 4,
   "id": "22649b47-bf2f-40e3-9cd8-032d0048d668",
   "metadata": {},
   "outputs": [],
   "source": [
    "# encoder\n",
    "\n",
    "inputs = Input(shape=(input_dims,))\n",
    "h = Dense(hidden_dims, activation='relu')(inputs)\n",
    "z_mean = Dense(latent_dims)(h)\n",
    "z_log_sigma = Dense(latent_dims)(h)"
   ]
  },
  {
   "cell_type": "code",
   "execution_count": 5,
   "id": "c65146ef-6a69-4c1d-ab17-5c5f638a6849",
   "metadata": {},
   "outputs": [],
   "source": [
    "# sampling from z_mean and z_log_sigma\n",
    "def sampling(args):\n",
    "    z_mean, z_log_sigma = args\n",
    "    eps = K.random_normal(shape=(K.shape(z_mean)[0], latent_dims), mean=0.0, stddev=1.0)\n",
    "    return z_mean + eps * K.exp(z_log_sigma)\n",
    "\n",
    "z = Lambda(sampling, output_shape=(latent_dims,))([z_mean, z_log_sigma])"
   ]
  },
  {
   "cell_type": "code",
   "execution_count": 6,
   "id": "0680ef81-7471-4d36-9996-0eee877818eb",
   "metadata": {},
   "outputs": [
    {
     "name": "stdout",
     "output_type": "stream",
     "text": [
      "Model: \"model\"\n",
      "__________________________________________________________________________________________________\n",
      " Layer (type)                Output Shape                 Param #   Connected to                  \n",
      "==================================================================================================\n",
      " input_1 (InputLayer)        [(None, 784)]                0         []                            \n",
      "                                                                                                  \n",
      " dense (Dense)               (None, 400)                  314000    ['input_1[0][0]']             \n",
      "                                                                                                  \n",
      " dense_1 (Dense)             (None, 20)                   8020      ['dense[0][0]']               \n",
      "                                                                                                  \n",
      " dense_2 (Dense)             (None, 20)                   8020      ['dense[0][0]']               \n",
      "                                                                                                  \n",
      " lambda (Lambda)             (None, 20)                   0         ['dense_1[0][0]',             \n",
      "                                                                     'dense_2[0][0]']             \n",
      "                                                                                                  \n",
      " dense_3 (Dense)             (None, 400)                  8400      ['lambda[0][0]']              \n",
      "                                                                                                  \n",
      " dense_4 (Dense)             (None, 784)                  314384    ['dense_3[0][0]']             \n",
      "                                                                                                  \n",
      "==================================================================================================\n",
      "Total params: 652824 (2.49 MB)\n",
      "Trainable params: 652824 (2.49 MB)\n",
      "Non-trainable params: 0 (0.00 Byte)\n",
      "__________________________________________________________________________________________________\n"
     ]
    }
   ],
   "source": [
    "# decoder\n",
    "\n",
    "dh = Dense(hidden_dims, activation='relu')(z)\n",
    "out = Dense(input_dims, activation='sigmoid')(dh)\n",
    "\n",
    "vae = Model(inputs, out)\n",
    "vae.summary()"
   ]
  },
  {
   "cell_type": "code",
   "execution_count": 12,
   "id": "085e820a-5964-4cdc-9011-6a844c651832",
   "metadata": {},
   "outputs": [],
   "source": [
    "# loss funciton\n",
    "xcent_loss = input_dims * binary_crossentropy(inputs, out)\n",
    "kld_loss = -0.5 * K.sum(1 + z_log_sigma - K.square(z_mean) - K.exp(z_log_sigma), axis=-1)\n",
    "\n",
    "vae_loss = K.mean(xcent_loss + kld_loss)\n",
    "vae.add_loss(vae_loss)\n",
    "vae.compile(optimizer='adam')"
   ]
  },
  {
   "cell_type": "code",
   "execution_count": 14,
   "id": "f275a368-ecd8-486a-a2ac-bf0c14b1ab0e",
   "metadata": {},
   "outputs": [
    {
     "name": "stdout",
     "output_type": "stream",
     "text": [
      "Epoch 1/50\n",
      "469/469 [==============================] - 6s 11ms/step - loss: 488.7650 - val_loss: 355.2055\n",
      "Epoch 2/50\n",
      "469/469 [==============================] - 5s 10ms/step - loss: 333.3523 - val_loss: 312.9297\n",
      "Epoch 3/50\n",
      "469/469 [==============================] - 5s 10ms/step - loss: 308.0237 - val_loss: 298.9060\n",
      "Epoch 4/50\n",
      "469/469 [==============================] - 5s 10ms/step - loss: 297.0723 - val_loss: 290.5792\n",
      "Epoch 5/50\n",
      "469/469 [==============================] - 5s 10ms/step - loss: 290.1786 - val_loss: 285.6376\n",
      "Epoch 6/50\n",
      "469/469 [==============================] - 5s 10ms/step - loss: 285.5367 - val_loss: 281.1079\n",
      "Epoch 7/50\n",
      "469/469 [==============================] - 5s 10ms/step - loss: 282.2431 - val_loss: 278.6447\n",
      "Epoch 8/50\n",
      "469/469 [==============================] - 5s 10ms/step - loss: 279.6324 - val_loss: 276.5444\n",
      "Epoch 9/50\n",
      "469/469 [==============================] - 5s 10ms/step - loss: 277.5678 - val_loss: 274.8641\n",
      "Epoch 10/50\n",
      "469/469 [==============================] - 5s 10ms/step - loss: 275.9446 - val_loss: 274.1617\n",
      "Epoch 11/50\n",
      "469/469 [==============================] - 5s 10ms/step - loss: 274.4986 - val_loss: 273.1937\n",
      "Epoch 12/50\n",
      "469/469 [==============================] - 5s 10ms/step - loss: 273.3100 - val_loss: 271.6021\n",
      "Epoch 13/50\n",
      "469/469 [==============================] - 5s 10ms/step - loss: 272.2494 - val_loss: 271.3071\n",
      "Epoch 14/50\n",
      "469/469 [==============================] - 5s 10ms/step - loss: 271.3709 - val_loss: 269.9444\n",
      "Epoch 15/50\n",
      "469/469 [==============================] - 5s 10ms/step - loss: 270.5589 - val_loss: 269.5718\n",
      "Epoch 16/50\n",
      "469/469 [==============================] - 5s 10ms/step - loss: 269.9289 - val_loss: 269.2555\n",
      "Epoch 17/50\n",
      "469/469 [==============================] - 5s 10ms/step - loss: 269.3633 - val_loss: 269.1168\n",
      "Epoch 18/50\n",
      "469/469 [==============================] - 5s 10ms/step - loss: 268.7682 - val_loss: 269.0098\n",
      "Epoch 19/50\n",
      "469/469 [==============================] - 5s 10ms/step - loss: 268.2944 - val_loss: 267.9217\n",
      "Epoch 20/50\n",
      "469/469 [==============================] - 5s 10ms/step - loss: 267.6997 - val_loss: 267.3337\n",
      "Epoch 21/50\n",
      "469/469 [==============================] - 5s 10ms/step - loss: 267.3162 - val_loss: 267.0352\n",
      "Epoch 22/50\n",
      "469/469 [==============================] - 5s 10ms/step - loss: 266.9100 - val_loss: 266.7417\n",
      "Epoch 23/50\n",
      "469/469 [==============================] - 5s 10ms/step - loss: 266.4850 - val_loss: 266.6792\n",
      "Epoch 24/50\n",
      "469/469 [==============================] - 5s 10ms/step - loss: 266.1046 - val_loss: 266.0947\n",
      "Epoch 25/50\n",
      "469/469 [==============================] - 5s 10ms/step - loss: 265.7026 - val_loss: 265.9059\n",
      "Epoch 26/50\n",
      "469/469 [==============================] - 5s 10ms/step - loss: 265.4770 - val_loss: 266.3460\n",
      "Epoch 27/50\n",
      "469/469 [==============================] - 5s 10ms/step - loss: 265.1228 - val_loss: 265.2614\n",
      "Epoch 28/50\n",
      "469/469 [==============================] - 5s 10ms/step - loss: 264.8784 - val_loss: 265.0591\n",
      "Epoch 29/50\n",
      "469/469 [==============================] - 5s 10ms/step - loss: 264.5653 - val_loss: 264.6769\n",
      "Epoch 30/50\n",
      "469/469 [==============================] - 5s 10ms/step - loss: 264.3386 - val_loss: 264.8282\n",
      "Epoch 31/50\n",
      "469/469 [==============================] - 5s 11ms/step - loss: 264.1057 - val_loss: 264.6683\n",
      "Epoch 32/50\n",
      "469/469 [==============================] - 5s 10ms/step - loss: 263.8186 - val_loss: 264.2605\n",
      "Epoch 33/50\n",
      "469/469 [==============================] - 5s 10ms/step - loss: 263.6549 - val_loss: 264.0348\n",
      "Epoch 34/50\n",
      "469/469 [==============================] - 5s 10ms/step - loss: 263.4562 - val_loss: 264.0455\n",
      "Epoch 35/50\n",
      "469/469 [==============================] - 5s 10ms/step - loss: 263.2733 - val_loss: 264.3859\n",
      "Epoch 36/50\n",
      "469/469 [==============================] - 5s 10ms/step - loss: 263.0227 - val_loss: 263.5067\n",
      "Epoch 37/50\n",
      "469/469 [==============================] - 5s 10ms/step - loss: 262.6895 - val_loss: 263.7852\n",
      "Epoch 38/50\n",
      "469/469 [==============================] - 5s 10ms/step - loss: 262.7236 - val_loss: 263.2766\n",
      "Epoch 39/50\n",
      "469/469 [==============================] - 5s 10ms/step - loss: 262.3625 - val_loss: 263.2475\n",
      "Epoch 40/50\n",
      "469/469 [==============================] - 5s 10ms/step - loss: 262.2589 - val_loss: 262.9439\n",
      "Epoch 41/50\n",
      "469/469 [==============================] - 5s 10ms/step - loss: 262.1372 - val_loss: 262.8516\n",
      "Epoch 42/50\n",
      "469/469 [==============================] - 5s 10ms/step - loss: 261.9688 - val_loss: 263.1436\n",
      "Epoch 43/50\n",
      "469/469 [==============================] - 5s 10ms/step - loss: 261.8612 - val_loss: 262.9413\n",
      "Epoch 44/50\n",
      "469/469 [==============================] - 5s 10ms/step - loss: 261.6409 - val_loss: 262.9196\n",
      "Epoch 45/50\n",
      "469/469 [==============================] - 5s 10ms/step - loss: 261.4682 - val_loss: 262.6592\n",
      "Epoch 46/50\n",
      "469/469 [==============================] - 5s 10ms/step - loss: 261.2611 - val_loss: 262.5411\n",
      "Epoch 47/50\n",
      "469/469 [==============================] - 5s 10ms/step - loss: 261.1803 - val_loss: 262.3330\n",
      "Epoch 48/50\n",
      "469/469 [==============================] - 5s 10ms/step - loss: 261.0383 - val_loss: 262.2523\n",
      "Epoch 49/50\n",
      "469/469 [==============================] - 5s 10ms/step - loss: 261.0212 - val_loss: 262.1679\n",
      "Epoch 50/50\n",
      "469/469 [==============================] - 5s 10ms/step - loss: 260.8494 - val_loss: 261.9475\n"
     ]
    },
    {
     "data": {
      "text/plain": [
       "<keras.src.callbacks.History at 0x7f7a0c234250>"
      ]
     },
     "execution_count": 14,
     "metadata": {},
     "output_type": "execute_result"
    }
   ],
   "source": [
    "# training\n",
    "vae.fit(X_train, X_train, shuffle=True, batch_size=batch_size, epochs=epochs, validation_data=(X_test, X_test))"
   ]
  },
  {
   "cell_type": "code",
   "execution_count": 15,
   "id": "a65bd485-23b2-427f-b5ac-96c739bc1dd3",
   "metadata": {},
   "outputs": [
    {
     "name": "stdout",
     "output_type": "stream",
     "text": [
      "313/313 [==============================] - 1s 2ms/step\n"
     ]
    }
   ],
   "source": [
    "# predicted\n",
    "X_test_pred = vae.predict(X_test)"
   ]
  },
  {
   "cell_type": "code",
   "execution_count": 19,
   "id": "f428fd71-641e-4510-ad2c-dc0911151b88",
   "metadata": {},
   "outputs": [
    {
     "data": {
      "image/png": "[encoded data removed]",
      "text/plain": [
       "<Figure size 1728x432 with 20 Axes>"
      ]
     },
     "metadata": {
      "needs_background": "light"
     },
     "output_type": "display_data"
    }
   ],
   "source": [
    "n = 10\n",
    "fig = plt.figure(figsize=(24,6))\n",
    "\n",
    "for i in range(n):\n",
    "    ax = plt.subplot(2, n, i+1)\n",
    "    plt.imshow(X_test[i].reshape(28,28), cmap='gray')\n",
    "    plt.title('Original')\n",
    "    plt.axis('off')\n",
    "    \n",
    "    plt.subplot(2, n, n+i+1)\n",
    "    plt.imshow(X_test_pred[i].reshape(28, 28), cmap='gray')\n",
    "    plt.title('Reconstructued')\n",
    "    plt.axis('off')\n",
    "    \n",
    "plt.show()"
   ]
  },
  {
   "cell_type": "code",
   "execution_count": null,
   "id": "566ff248-4cd4-4b2b-a66d-469760295be8",
   "metadata": {},
   "outputs": [],
   "source": []
  }
 ],
 "metadata": {
  "kernelspec": {
   "display_name": "Python 3 [3.10]",
   "language": "python",
   "name": "python3"
  },
  "language_info": {
   "codemirror_mode": {
    "name": "ipython",
    "version": 3
   },
   "file_extension": ".py",
   "mimetype": "text/x-python",
   "name": "python",
   "nbconvert_exporter": "python",
   "pygments_lexer": "ipython3",
   "version": "3.10.2"
  }
 },
 "nbformat": 4,
 "nbformat_minor": 5
}
